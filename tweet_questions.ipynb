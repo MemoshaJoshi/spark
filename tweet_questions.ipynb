{
 "cells": [
  {
   "cell_type": "code",
   "execution_count": 4,
   "metadata": {},
   "outputs": [],
   "source": [
    "#Import all necessary libraries\n",
    "from pyspark.sql import SparkSession , functions as fun\n",
    "from pyspark.sql.types import ArrayType, StringType\n"
   ]
  },
  {
   "cell_type": "code",
   "execution_count": 5,
   "metadata": {},
   "outputs": [],
   "source": [
    "# Creating a SparkSession in Python\n",
    "spark = SparkSession.builder.appName('sales')\\\n",
    "    .config('spark.driver.extraClassPath', '/usr/lib/jvm/java-17-openjdk-amd64/lib/postgresql-42.5.0.jar')\\\n",
    "    .getOrCreate()"
   ]
  },
  {
   "cell_type": "code",
   "execution_count": 6,
   "metadata": {},
   "outputs": [
    {
     "name": "stdout",
     "output_type": "stream",
     "text": [
      "+--------------------+------------------+-----------------+--------------------+-------------------+\n",
      "|             country|                id|            place|                text|               user|\n",
      "+--------------------+------------------+-----------------+--------------------+-------------------+\n",
      "|               India|572692378957430785|           Orissa|@always_nidhi @Yo...|    Srkian_nishu :)|\n",
      "|       United States|572575240615796737|        Manhattan|@OnlyDancers Bell...| TagineDiningGlobal|\n",
      "|       United States|572575243883036672|        Claremont|1/ \"Without the a...|        Daniel Beer|\n",
      "|       United States|572575252020109313|           Vienna|idk why people ha...|   someone actually|\n",
      "|       United States|572575274539356160|           Boston|Taste of Iceland!...|     BostonAttitude|\n",
      "|       United States|572647819401670656|          Suwanee|Know what you don...|Collin A. Zimmerman|\n",
      "|           Indonesia|572647831053312000|      Mario Riawa|Serasi ade haha @...|   Rinie Syamsuddin|\n",
      "|           Indonesia|572647839521767425|    Bogor Selatan|Akhirnya bisa jug...|       Vinny Sylvia|\n",
      "|       United States|572647841220337664|          Norwalk|@BeezyDH_ it's li...|                Cas|\n",
      "|       United States|572647842277396480|           Santee| obsessed with music|               kimo|\n",
      "|       United States|572631750163234816|        Tennessee|@blakeshelton You...|        Jeff Morton|\n",
      "|           Indonesia|572631763115249664|           Gambir|Happy Birhday Ps....|        Rensus Paul|\n",
      "|       United States|572606799712428033|   North Carolina|One night I'm ext...|                 KC|\n",
      "|       United States|572606799649640449|        Baltimore|@DjGregStreet STO...|      #QuissyUpSoon|\n",
      "|       United States|572606809216663552|          Cypress|always getting in...|                 lo|\n",
      "|Negara Brunei Dar...|572606812081410048|           Brunei|nigga in paris ht...|           hafizzul|\n",
      "|       United States|572616136963055616|         Portland|Boutta fall aslee...|          Princess✨|\n",
      "|       United States|572616139987144704|         Kentucky|Canadians are tak...|       Nene Kiameso|\n",
      "|       United States|572616165786185728|         Wahpeton|Chicago takin ove...|              Chase|\n",
      "|      United Kingdom|572667477949353984|Ashton-under-Lyne|@traceyb65 I'm up...|             stefan|\n",
      "+--------------------+------------------+-----------------+--------------------+-------------------+\n",
      "only showing top 20 rows\n",
      "\n"
     ]
    }
   ],
   "source": [
    "# Read json file\n",
    "twitter_data = spark.read.json('data/tweets.json')    \n",
    "\n",
    "twitter_data.show()"
   ]
  },
  {
   "cell_type": "code",
   "execution_count": 7,
   "metadata": {},
   "outputs": [
    {
     "name": "stdout",
     "output_type": "stream",
     "text": [
      "root\n",
      " |-- country: string (nullable = true)\n",
      " |-- id: string (nullable = true)\n",
      " |-- place: string (nullable = true)\n",
      " |-- text: string (nullable = true)\n",
      " |-- user: string (nullable = true)\n",
      "\n"
     ]
    }
   ],
   "source": [
    "twitter_data.printSchema()"
   ]
  },
  {
   "cell_type": "markdown",
   "metadata": {},
   "source": [
    "1. Find all the tweets by user."
   ]
  },
  {
   "cell_type": "code",
   "execution_count": 8,
   "metadata": {},
   "outputs": [
    {
     "name": "stdout",
     "output_type": "stream",
     "text": [
      "+--------------------+------------------+------+--------------------+--------+\n",
      "|             country|                id| place|                text|    user|\n",
      "+--------------------+------------------+------+--------------------+--------+\n",
      "|Negara Brunei Dar...|572606812081410048|Brunei|nigga in paris ht...|hafizzul|\n",
      "+--------------------+------------------+------+--------------------+--------+\n",
      "\n"
     ]
    }
   ],
   "source": [
    "user = 'hafizzul'\n",
    "\n",
    "twitter_data.filter(twitter_data['user']==user).show()"
   ]
  },
  {
   "cell_type": "markdown",
   "metadata": {},
   "source": [
    "2. Find how many tweets each user has."
   ]
  },
  {
   "cell_type": "code",
   "execution_count": 9,
   "metadata": {},
   "outputs": [
    {
     "name": "stdout",
     "output_type": "stream",
     "text": [
      "+--------------------+-----+\n",
      "|                user|count|\n",
      "+--------------------+-----+\n",
      "|       #QuissyUpSoon|  258|\n",
      "|Inès Mendes Askiip ♥|  185|\n",
      "|           #4Rentinc|  100|\n",
      "|                  MV|   58|\n",
      "|    williampriceking|   46|\n",
      "|✌ Follow Me MAEJOR ✌|   44|\n",
      "|    Phillthy McNasty|   43|\n",
      "|       K.O.H.O.R.T.S|   41|\n",
      "|  #AMNT KINGTAECRAZY|   41|\n",
      "|        Ghafla.co.ke|   36|\n",
      "|        Ully U Music|   35|\n",
      "|            Codeclic|   33|\n",
      "|  TagineDiningGlobal|   30|\n",
      "|           Lord Dash|   30|\n",
      "|      Herri Setiawan|   29|\n",
      "|          Dell Feddi|   29|\n",
      "|   Kidrauhl Forever❤|   25|\n",
      "|     Trendsmap Paris|   23|\n",
      "|      #TurnYaSneakUp|   22|\n",
      "|                Bel |   19|\n",
      "+--------------------+-----+\n",
      "only showing top 20 rows\n",
      "\n"
     ]
    }
   ],
   "source": [
    "twitter_data.groupBy('user').count().orderBy('count', ascending=False).show()"
   ]
  },
  {
   "cell_type": "markdown",
   "metadata": {},
   "source": [
    "3. Find all the persons mentioned on tweets."
   ]
  },
  {
   "cell_type": "code",
   "execution_count": 10,
   "metadata": {},
   "outputs": [
    {
     "name": "stdout",
     "output_type": "stream",
     "text": [
      "+--------------------+------------------+-----------------+--------------------+-------------------+--------------------+\n",
      "|             country|                id|            place|                text|               user|     users_mentioned|\n",
      "+--------------------+------------------+-----------------+--------------------+-------------------+--------------------+\n",
      "|               India|572692378957430785|           Orissa|@always_nidhi @Yo...|    Srkian_nishu :)|[always_nidhi, Yo...|\n",
      "|       United States|572575240615796737|        Manhattan|@OnlyDancers Bell...| TagineDiningGlobal|       [OnlyDancers]|\n",
      "|       United States|572575243883036672|        Claremont|1/ \"Without the a...|        Daniel Beer|                  []|\n",
      "|       United States|572575252020109313|           Vienna|idk why people ha...|   someone actually|                  []|\n",
      "|       United States|572575274539356160|           Boston|Taste of Iceland!...|     BostonAttitude|    [IcelandNatural]|\n",
      "|       United States|572647819401670656|          Suwanee|Know what you don...|Collin A. Zimmerman|                  []|\n",
      "|           Indonesia|572647831053312000|      Mario Riawa|Serasi ade haha @...|   Rinie Syamsuddin|           [AdeRais]|\n",
      "|           Indonesia|572647839521767425|    Bogor Selatan|Akhirnya bisa jug...|       Vinny Sylvia|                  []|\n",
      "|       United States|572647841220337664|          Norwalk|@BeezyDH_ it's li...|                Cas|          [BeezyDH_]|\n",
      "|       United States|572647842277396480|           Santee| obsessed with music|               kimo|                  []|\n",
      "|       United States|572631750163234816|        Tennessee|@blakeshelton You...|        Jeff Morton|      [blakeshelton]|\n",
      "|           Indonesia|572631763115249664|           Gambir|Happy Birhday Ps....|        Rensus Paul|                  []|\n",
      "|       United States|572606799712428033|   North Carolina|One night I'm ext...|                 KC|                  []|\n",
      "|       United States|572606799649640449|        Baltimore|@DjGregStreet STO...|      #QuissyUpSoon|      [DjGregStreet]|\n",
      "|       United States|572606809216663552|          Cypress|always getting in...|                 lo|                  []|\n",
      "|Negara Brunei Dar...|572606812081410048|           Brunei|nigga in paris ht...|           hafizzul|                  []|\n",
      "|       United States|572616136963055616|         Portland|Boutta fall aslee...|          Princess✨|                  []|\n",
      "|       United States|572616139987144704|         Kentucky|Canadians are tak...|       Nene Kiameso|                  []|\n",
      "|       United States|572616165786185728|         Wahpeton|Chicago takin ove...|              Chase|                  []|\n",
      "|      United Kingdom|572667477949353984|Ashton-under-Lyne|@traceyb65 I'm up...|             stefan|         [traceyb65]|\n",
      "+--------------------+------------------+-----------------+--------------------+-------------------+--------------------+\n",
      "only showing top 20 rows\n",
      "\n"
     ]
    }
   ],
   "source": [
    "def generate_usermentioned(text):\n",
    "    return [item.lstrip('@') for item in text.split(' ') if item.startswith('@')]\n",
    "user_mentioned = twitter_data.withColumn('users_mentioned', fun.udf(lambda text: generate_usermentioned(text), ArrayType(StringType()))('text'))\n",
    "user_mentioned.show()\n"
   ]
  },
  {
   "cell_type": "markdown",
   "metadata": {},
   "source": [
    "4. Count how many times each person is mentioned."
   ]
  },
  {
   "cell_type": "code",
   "execution_count": 11,
   "metadata": {},
   "outputs": [],
   "source": [
    "from pyspark.sql.functions import explode"
   ]
  },
  {
   "cell_type": "code",
   "execution_count": 12,
   "metadata": {},
   "outputs": [
    {
     "name": "stdout",
     "output_type": "stream",
     "text": [
      "+---------------+-----+\n",
      "|users_mentioned|count|\n",
      "+---------------+-----+\n",
      "|DjRockyUg      |1    |\n",
      "|TrillHD        |1    |\n",
      "|TimmysWell     |1    |\n",
      "|brookie_baldwin|1    |\n",
      "|TTTorrez       |2    |\n",
      "|boytoyjesse    |1    |\n",
      "|misstoriblack  |1    |\n",
      "|globalstatmusic|1    |\n",
      "|_fuckgio       |1    |\n",
      "|PedroIvoChianca|1    |\n",
      "|Cpiepz         |1    |\n",
      "|avachristy3    |1    |\n",
      "|lostbayouramble|1    |\n",
      "|bellahadid     |1    |\n",
      "|sawano_nZk's   |1    |\n",
      "|marIboros      |1    |\n",
      "|kochamjacksona |1    |\n",
      "|WIOD           |2    |\n",
      "|ShaelynCherie  |2    |\n",
      "|KevinAnex      |1    |\n",
      "+---------------+-----+\n",
      "only showing top 20 rows\n",
      "\n"
     ]
    }
   ],
   "source": [
    "new_usermentioned_df= user_mentioned.select(fun.explode('users_mentioned').alias('users_mentioned'))\n",
    "new_usermentioned_df = new_usermentioned_df.filter(new_usermentioned_df['users_mentioned'] != '')\n",
    "times_person_mentioned =new_usermentioned_df.groupBy('users_mentioned').count()\n",
    "times_person_mentioned.show(truncate=False)"
   ]
  },
  {
   "cell_type": "markdown",
   "metadata": {},
   "source": [
    "5. Find the 10 most mentioned persons."
   ]
  },
  {
   "cell_type": "code",
   "execution_count": 13,
   "metadata": {},
   "outputs": [
    {
     "name": "stdout",
     "output_type": "stream",
     "text": [
      "+---------------+-----+\n",
      "|users_mentioned|count|\n",
      "+---------------+-----+\n",
      "|    ShawnMendes|  189|\n",
      "|  HIITMANonDECK|  100|\n",
      "|officialdjjuice|   59|\n",
      "|         MAEJOR|   45|\n",
      "|    MR_JAYJONES|   41|\n",
      "|       MeekMill|   35|\n",
      "|MadisonElleBeer|   30|\n",
      "|              …|   28|\n",
      "|     DjLordDash|   27|\n",
      "|     NICKIMINAJ|   25|\n",
      "+---------------+-----+\n",
      "\n"
     ]
    }
   ],
   "source": [
    "ten_most_mentioned =new_usermentioned_df.groupBy('users_mentioned').count().orderBy('count', ascending=False).limit(10).show()\n"
   ]
  },
  {
   "cell_type": "markdown",
   "metadata": {},
   "source": [
    "6. Find all the hashtags mentioned on a tweet."
   ]
  },
  {
   "cell_type": "code",
   "execution_count": 15,
   "metadata": {},
   "outputs": [
    {
     "name": "stdout",
     "output_type": "stream",
     "text": [
      "+--------------------+------------------+-----------------+--------------------+-------------------+--------------------+\n",
      "|             country|                id|            place|                text|               user|  hashtags_mentioned|\n",
      "+--------------------+------------------+-----------------+--------------------+-------------------+--------------------+\n",
      "|               India|572692378957430785|           Orissa|@always_nidhi @Yo...|    Srkian_nishu :)|                  []|\n",
      "|       United States|572575240615796737|        Manhattan|@OnlyDancers Bell...| TagineDiningGlobal|                  []|\n",
      "|       United States|572575243883036672|        Claremont|1/ \"Without the a...|        Daniel Beer|                  []|\n",
      "|       United States|572575252020109313|           Vienna|idk why people ha...|   someone actually|                  []|\n",
      "|       United States|572575274539356160|           Boston|Taste of Iceland!...|     BostonAttitude|                  []|\n",
      "|       United States|572647819401670656|          Suwanee|Know what you don...|Collin A. Zimmerman|   [#shutUpAndDANCE]|\n",
      "|           Indonesia|572647831053312000|      Mario Riawa|Serasi ade haha @...|   Rinie Syamsuddin|[#SHINee, #AMBER(...|\n",
      "|           Indonesia|572647839521767425|    Bogor Selatan|Akhirnya bisa jug...|       Vinny Sylvia|                  []|\n",
      "|       United States|572647841220337664|          Norwalk|@BeezyDH_ it's li...|                Cas|                  []|\n",
      "|       United States|572647842277396480|           Santee| obsessed with music|               kimo|                  []|\n",
      "|       United States|572631750163234816|        Tennessee|@blakeshelton You...|        Jeff Morton|                  []|\n",
      "|           Indonesia|572631763115249664|           Gambir|Happy Birhday Ps....|        Rensus Paul| [#JR50, #flipagram]|\n",
      "|       United States|572606799712428033|   North Carolina|One night I'm ext...|                 KC|                  []|\n",
      "|       United States|572606799649640449|        Baltimore|@DjGregStreet STO...|      #QuissyUpSoon|[#DME, #ROADBOYZ,...|\n",
      "|       United States|572606809216663552|          Cypress|always getting in...|                 lo|                  []|\n",
      "|Negara Brunei Dar...|572606812081410048|           Brunei|nigga in paris ht...|           hafizzul|                  []|\n",
      "|       United States|572616136963055616|         Portland|Boutta fall aslee...|          Princess✨|                  []|\n",
      "|       United States|572616139987144704|         Kentucky|Canadians are tak...|       Nene Kiameso|                  []|\n",
      "|       United States|572616165786185728|         Wahpeton|Chicago takin ove...|              Chase|                  []|\n",
      "|      United Kingdom|572667477949353984|Ashton-under-Lyne|@traceyb65 I'm up...|             stefan|                  []|\n",
      "+--------------------+------------------+-----------------+--------------------+-------------------+--------------------+\n",
      "only showing top 20 rows\n",
      "\n"
     ]
    }
   ],
   "source": [
    "def generate_hashtags(text):\n",
    "    return [item for item in text.split(' ') if item.startswith('#')]\n",
    "hashtags_mentioned = twitter_data.withColumn('hashtags_mentioned', fun.udf(lambda text: generate_hashtags(text), ArrayType(StringType()))('text'))\n",
    "hashtags_mentioned.show()"
   ]
  },
  {
   "cell_type": "markdown",
   "metadata": {},
   "source": [
    "7. Count how many times each hashtag is mentioned."
   ]
  },
  {
   "cell_type": "code",
   "execution_count": 16,
   "metadata": {},
   "outputs": [
    {
     "name": "stdout",
     "output_type": "stream",
     "text": [
      "+--------------------+-----+\n",
      "|hashtags_mentioned  |count|\n",
      "+--------------------+-----+\n",
      "|#2NE1               |3    |\n",
      "|#musicLover         |1    |\n",
      "|#IBMCloud           |2    |\n",
      "|#flexrecordingstudio|1    |\n",
      "|#Hottest            |1    |\n",
      "|#VanessaBorn        |1    |\n",
      "|#happychappy        |1    |\n",
      "|#yyjevents          |1    |\n",
      "|#LittleLionMan      |1    |\n",
      "|#MBAMBADU           |7    |\n",
      "|#misheardlyrics     |1    |\n",
      "|#Indie              |2    |\n",
      "|#family             |1    |\n",
      "|#beautiful          |2    |\n",
      "|#Waiter             |1    |\n",
      "|#friend             |1    |\n",
      "|#recuseimitaçoes    |1    |\n",
      "|#airbnb             |1    |\n",
      "|#BØRNS              |1    |\n",
      "|#ChickCorea         |1    |\n",
      "+--------------------+-----+\n",
      "only showing top 20 rows\n",
      "\n"
     ]
    }
   ],
   "source": [
    "new_hashtags_mentioned= hashtags_mentioned.select(fun.explode('hashtags_mentioned').alias('hashtags_mentioned'))\n",
    "new_hashtags_mentioned = new_hashtags_mentioned.filter(new_hashtags_mentioned['hashtags_mentioned'] != '')\n",
    "times_each_hashtag_mentioned=new_hashtags_mentioned.groupBy('hashtags_mentioned').count()\n",
    "times_each_hashtag_mentioned.show(truncate=False)\n"
   ]
  },
  {
   "cell_type": "markdown",
   "metadata": {},
   "source": [
    "8. Find the 10 most popular Hashtags."
   ]
  },
  {
   "cell_type": "code",
   "execution_count": 18,
   "metadata": {},
   "outputs": [
    {
     "name": "stdout",
     "output_type": "stream",
     "text": [
      "+-------------------+-----+\n",
      "| hashtags_mentioned|count|\n",
      "+-------------------+-----+\n",
      "|               #DME|  253|\n",
      "|          #ROADBOYZ|  251|\n",
      "|             #music|  236|\n",
      "|             #Paris|  144|\n",
      "|#QuissyUpSoon🔥🔥💯|  129|\n",
      "|      #QuissyUpSoon|  120|\n",
      "| #Trippythursdaymia|  100|\n",
      "|             #Music|   84|\n",
      "|    #MaejorMeAndYou|   44|\n",
      "|              #IGGL|   41|\n",
      "+-------------------+-----+\n",
      "\n"
     ]
    }
   ],
   "source": [
    "ten_most_popular =new_hashtags_mentioned.groupBy('hashtags_mentioned').count().orderBy('count', ascending=False).limit(10).show()\n"
   ]
  },
  {
   "cell_type": "markdown",
   "metadata": {},
   "source": [
    "9. Find the top 5 countries which tweet the most."
   ]
  },
  {
   "cell_type": "code",
   "execution_count": 19,
   "metadata": {},
   "outputs": [
    {
     "name": "stdout",
     "output_type": "stream",
     "text": [
      "+--------------+-----+\n",
      "|       country|count|\n",
      "+--------------+-----+\n",
      "| United States| 4841|\n",
      "|        France|  737|\n",
      "|     Indonesia|  370|\n",
      "|United Kingdom|  365|\n",
      "|        Brasil|  256|\n",
      "+--------------+-----+\n",
      "\n"
     ]
    }
   ],
   "source": [
    "top_5_tweets =twitter_data.groupBy('country').count().orderBy('count', ascending=False).limit(5).show()\n"
   ]
  }
 ],
 "metadata": {
  "kernelspec": {
   "display_name": "Python 3",
   "language": "python",
   "name": "python3"
  },
  "language_info": {
   "codemirror_mode": {
    "name": "ipython",
    "version": 3
   },
   "file_extension": ".py",
   "mimetype": "text/x-python",
   "name": "python",
   "nbconvert_exporter": "python",
   "pygments_lexer": "ipython3",
   "version": "3.8.10"
  }
 },
 "nbformat": 4,
 "nbformat_minor": 4
}
