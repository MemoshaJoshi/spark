{
 "cells": [
  {
   "cell_type": "code",
   "execution_count": 3,
   "metadata": {},
   "outputs": [],
   "source": [
    "#Import all necessary libraries\n",
    "from pyspark.sql import SparkSession"
   ]
  },
  {
   "cell_type": "code",
   "execution_count": 4,
   "metadata": {},
   "outputs": [],
   "source": [
    "# Creating a SparkSession in Python\n",
    "spark = SparkSession.builder.appName('sales')\\\n",
    "    .config('spark.driver.extraClassPath', '/usr/lib/jvm/java-17-openjdk-amd64/lib/postgresql-42.5.0.jar')\\\n",
    "    .getOrCreate()\n"
   ]
  },
  {
   "cell_type": "code",
   "execution_count": 5,
   "metadata": {},
   "outputs": [
    {
     "name": "stdout",
     "output_type": "stream",
     "text": [
      "+--------------------+---------------+----------+---------+--------------+--------------------+-------------+----------+----------+------------+-------------+---------+----------+----------+---------------+\n",
      "|             Country|      Item Type|Order Date| Order ID|Order Priority|              Region|Sales Channel| Ship Date|Total Cost|Total Profit|Total Revenue|Unit Cost|Unit Price|Units Sold|_corrupt_record|\n",
      "+--------------------+---------------+----------+---------+--------------+--------------------+-------------+----------+----------+------------+-------------+---------+----------+----------+---------------+\n",
      "|          Azerbaijan|         Snacks| 10/8/2014|535113847|             C|Middle East and N...|       Online|10/23/2014|  91008.96|    51500.76|    142509.72|    97.44|    152.58|       934|           null|\n",
      "|              Panama|      Cosmetics| 2/22/2015|874708545|             L|Central America a...|      Offline| 2/27/2015|1198414.83|   791282.37|   1989697.20|   263.33|    437.20|      4551|           null|\n",
      "|Sao Tome and Prin...|         Fruits| 12/9/2015|854349935|             M|  Sub-Saharan Africa|      Offline| 1/18/2016|  69103.12|    24066.26|     93169.38|     6.92|      9.33|      9986|           null|\n",
      "|Sao Tome and Prin...|  Personal Care| 9/17/2014|892836844|             M|  Sub-Saharan Africa|       Online|10/12/2014| 516717.06|   228497.08|    745214.14|    56.67|     81.73|      9118|           null|\n",
      "|              Belize|      Household|  2/4/2010|129280602|             H|Central America a...|      Offline|  3/5/2010|2943879.32|   970846.34|   3914725.66|   502.54|    668.27|      5858|           null|\n",
      "|             Denmark|        Clothes| 2/20/2013|473105037|             C|              Europe|       Online| 2/28/2013|  41180.16|    84382.56|    125562.72|    35.84|    109.28|      1149|           null|\n",
      "|             Germany|      Cosmetics| 3/31/2013|754046475|             M|              Europe|      Offline|  5/3/2013|2097160.12|  1384700.68|   3481860.80|   263.33|    437.20|      7964|           null|\n",
      "|              Turkey|         Fruits| 3/26/2012|772153747|             C|Middle East and N...|       Online|  4/7/2012|  43644.44|    15199.87|     58844.31|     6.92|      9.33|      6307|           null|\n",
      "|      United Kingdom|         Snacks|12/29/2012|847788178|             H|              Europe|       Online| 1/15/2013| 800664.48|   453085.38|   1253749.86|    97.44|    152.58|      8217|           null|\n",
      "|          Kazakhstan|      Cosmetics| 9/11/2015|471623599|             H|                Asia|       Online| 9/18/2015| 726264.14|   479533.46|   1205797.60|   263.33|    437.20|      2758|           null|\n",
      "|               Haiti|      Cosmetics|12/27/2013|554646337|             C|Central America a...|       Online|  1/1/2014| 271493.23|   179259.97|    450753.20|   263.33|    437.20|      1031|           null|\n",
      "|               Italy|        Clothes|12/17/2013|278155219|             M|              Europe|       Online| 1/10/2014|  41753.60|    85557.60|    127311.20|    35.84|    109.28|      1165|           null|\n",
      "|               Malta|      Household| 3/10/2015|243761575|             L|              Europe|      Offline| 4/17/2015|1669437.88|   550555.06|   2219992.94|   502.54|    668.27|      3322|           null|\n",
      "|              Jordan|      Household|  7/9/2014|223389232|             L|Middle East and N...|      Offline| 7/18/2014|2358420.22|   777770.89|   3136191.11|   502.54|    668.27|      4693|           null|\n",
      "|            Cambodia|     Vegetables| 6/14/2017|509274518|             H|                Asia|      Offline| 6/29/2017| 409366.86|   284211.26|    693578.12|    90.93|    154.06|      4502|           null|\n",
      "|Saint Kitts and N...|Office Supplies| 8/10/2011|563966262|             H|Central America a...|       Online| 8/29/2011|4726739.84|  1136755.00|   5863494.84|   524.96|    651.21|      9004|           null|\n",
      "|            Cameroon|         Fruits|12/18/2015|370325791|             H|  Sub-Saharan Africa|       Online|  2/6/2016|  44883.12|    15631.26|     60514.38|     6.92|      9.33|      6486|           null|\n",
      "|             Bahrain|     Vegetables| 6/26/2016|881526935|             L|Middle East and N...|      Offline| 7/19/2016| 205865.52|   142926.32|    348791.84|    90.93|    154.06|      2264|           null|\n",
      "|     Solomon Islands|      Beverages| 5/11/2015|871056020|             C|Australia and Oce...|      Offline| 5/30/2015| 117241.52|    57754.08|    174995.60|    31.79|     47.45|      3688|           null|\n",
      "|              Monaco|Office Supplies| 1/13/2012|982711875|             M|              Europe|       Online| 1/17/2012|2696719.52|   648546.25|   3345265.77|   524.96|    651.21|      5137|           null|\n",
      "+--------------------+---------------+----------+---------+--------------+--------------------+-------------+----------+----------+------------+-------------+---------+----------+----------+---------------+\n",
      "only showing top 20 rows\n",
      "\n"
     ]
    }
   ],
   "source": [
    "# Read json file\n",
    "sales_data = spark.read.json('data/sales_records.json')    \n",
    "\n",
    "sales_data.show()"
   ]
  },
  {
   "cell_type": "code",
   "execution_count": 8,
   "metadata": {},
   "outputs": [
    {
     "name": "stdout",
     "output_type": "stream",
     "text": [
      "root\n",
      " |-- Country: string (nullable = true)\n",
      " |-- Item Type: string (nullable = true)\n",
      " |-- Order Date: string (nullable = true)\n",
      " |-- Order ID: string (nullable = true)\n",
      " |-- Order Priority: string (nullable = true)\n",
      " |-- Region: string (nullable = true)\n",
      " |-- Sales Channel: string (nullable = true)\n",
      " |-- Ship Date: string (nullable = true)\n",
      " |-- Total Cost: string (nullable = true)\n",
      " |-- Total Profit: string (nullable = true)\n",
      " |-- Total Revenue: string (nullable = true)\n",
      " |-- Unit Cost: string (nullable = true)\n",
      " |-- Unit Price: string (nullable = true)\n",
      " |-- Units Sold: string (nullable = true)\n",
      " |-- _corrupt_record: string (nullable = true)\n",
      "\n"
     ]
    }
   ],
   "source": [
    "sales_data.printSchema()"
   ]
  },
  {
   "cell_type": "markdown",
   "metadata": {},
   "source": [
    "1. Find the total cost, total revenue, total profit on the basis of each region."
   ]
  },
  {
   "cell_type": "code",
   "execution_count": 29,
   "metadata": {},
   "outputs": [
    {
     "name": "stdout",
     "output_type": "stream",
     "text": [
      "+--------------------+--------------------+--------------------+--------------------+\n",
      "|              Region|     sum(Total Cost)|  sum(Total Revenue)|   sum(Total Profit)|\n",
      "+--------------------+--------------------+--------------------+--------------------+\n",
      "|Middle East and N...|1.194003115569000...|1.691834583652000...| 4.978314680829999E9|\n",
      "|Australia and Oce...|7.5260986623499975E9|1.070152222373000...|3.1754235613800006E9|\n",
      "|              Europe|2.415937816666000...|3.423977049931005E10|1.008039233265000...|\n",
      "|  Sub-Saharan Africa|2.465031758511998E10|3.495487197082999E10|1.030455438570999...|\n",
      "|Central America a...|1.026651964281999...|1.455373016529000...|     4.28721052247E9|\n",
      "|       North America|2.0644507166499999E9|2.9370023334900002E9| 8.725516168399999E8|\n",
      "|                Asia|   1.358588970306E10|   1.929340121982E10| 5.707511516759997E9|\n",
      "|                null|                null|                null|                null|\n",
      "+--------------------+--------------------+--------------------+--------------------+\n",
      "\n"
     ]
    }
   ],
   "source": [
    "from pyspark.sql import SparkSession , functions as fun, Window as Wd\n",
    "sales_data.groupBy('Region').agg(fun.sum('Total Cost'), fun.sum('Total Revenue'), fun.sum('Total Profit')).show()"
   ]
  },
  {
   "cell_type": "markdown",
   "metadata": {},
   "source": [
    "2. Find the Item List on the basis of each country."
   ]
  },
  {
   "cell_type": "code",
   "execution_count": 30,
   "metadata": {},
   "outputs": [
    {
     "name": "stdout",
     "output_type": "stream",
     "text": [
      "+--------------------+--------------------+\n",
      "|             Country|            Itemlist|\n",
      "+--------------------+--------------------+\n",
      "|                null|                  []|\n",
      "|         Afghanistan|[Beverages, Perso...|\n",
      "|             Albania|[Beverages, Perso...|\n",
      "|             Algeria|[Beverages, Perso...|\n",
      "|             Andorra|[Beverages, Perso...|\n",
      "|              Angola|[Beverages, Perso...|\n",
      "|Antigua and Barbuda |[Beverages, Perso...|\n",
      "|             Armenia|[Beverages, Perso...|\n",
      "|           Australia|[Beverages, Perso...|\n",
      "|             Austria|[Beverages, Perso...|\n",
      "|          Azerbaijan|[Beverages, Perso...|\n",
      "|             Bahrain|[Beverages, Perso...|\n",
      "|          Bangladesh|[Beverages, Perso...|\n",
      "|            Barbados|[Beverages, Perso...|\n",
      "|             Belarus|[Beverages, Perso...|\n",
      "|             Belgium|[Beverages, Perso...|\n",
      "|              Belize|[Beverages, Perso...|\n",
      "|               Benin|[Beverages, Perso...|\n",
      "|              Bhutan|[Beverages, Perso...|\n",
      "|Bosnia and Herzeg...|[Beverages, Perso...|\n",
      "+--------------------+--------------------+\n",
      "only showing top 20 rows\n",
      "\n"
     ]
    }
   ],
   "source": [
    "sales_data.withColumn('Itemlist', fun.collect_set('Item Type').over(Wd.partitionBy('Country'))).select('Country', 'Itemlist').distinct().show()\n"
   ]
  },
  {
   "cell_type": "markdown",
   "metadata": {},
   "source": [
    "3. Find the total number of items sold in each country."
   ]
  },
  {
   "cell_type": "code",
   "execution_count": 31,
   "metadata": {},
   "outputs": [
    {
     "name": "stdout",
     "output_type": "stream",
     "text": [
      "+-----------+--------------------------+\n",
      "|    Country|Total number of items sold|\n",
      "+-----------+--------------------------+\n",
      "|       Chad|                 2660461.0|\n",
      "|     Russia|                 2579558.0|\n",
      "|      Yemen|                 2966519.0|\n",
      "|    Senegal|                 2716010.0|\n",
      "|     Sweden|                 2698756.0|\n",
      "|   Kiribati|                 2555774.0|\n",
      "|    Eritrea|                 2552497.0|\n",
      "|Philippines|                 2610149.0|\n",
      "|   Djibouti|                 2699545.0|\n",
      "|      Tonga|                 2565238.0|\n",
      "|  Singapore|                 2693579.0|\n",
      "|   Malaysia|                 2587267.0|\n",
      "|       Fiji|                 2613373.0|\n",
      "|     Turkey|                 2732629.0|\n",
      "|     Malawi|                 2645975.0|\n",
      "|       Iraq|                 2765491.0|\n",
      "|    Germany|                 2502470.0|\n",
      "|    Comoros|                 2556790.0|\n",
      "|   Cambodia|                 2946963.0|\n",
      "|Afghanistan|                 2805640.0|\n",
      "+-----------+--------------------------+\n",
      "only showing top 20 rows\n",
      "\n"
     ]
    }
   ],
   "source": [
    "sales_data.groupBy('Country').agg(fun.sum('Units Sold').alias('Total number of items sold')).show()"
   ]
  },
  {
   "cell_type": "markdown",
   "metadata": {},
   "source": [
    "4.  Find the top five famous items list on the basis of each region.(Consider units sold while doing this.)"
   ]
  },
  {
   "cell_type": "code",
   "execution_count": 32,
   "metadata": {},
   "outputs": [
    {
     "name": "stdout",
     "output_type": "stream",
     "text": [
      "+--------------------+---------------+----------------+----+\n",
      "|              Region|      Item Type|Total Units Sold|rank|\n",
      "+--------------------+---------------+----------------+----+\n",
      "|                null|           null|            null|   1|\n",
      "|                Asia|         Cereal|       6397658.0|   1|\n",
      "|                Asia|         Snacks|       6330265.0|   2|\n",
      "|                Asia|Office Supplies|       6187421.0|   3|\n",
      "|                Asia|     Vegetables|       6121703.0|   4|\n",
      "|                Asia|        Clothes|       6117405.0|   5|\n",
      "|Australia and Oce...|  Personal Care|       3616014.0|   1|\n",
      "|Australia and Oce...|     Vegetables|       3569149.0|   2|\n",
      "|Australia and Oce...|         Cereal|       3535286.0|   3|\n",
      "|Australia and Oce...|      Beverages|       3436051.0|   4|\n",
      "|Australia and Oce...|        Clothes|       3393563.0|   5|\n",
      "|Central America a...|      Cosmetics|       4814795.0|   1|\n",
      "|Central America a...|        Clothes|       4675554.0|   2|\n",
      "|Central America a...|           Meat|       4675081.0|   3|\n",
      "|Central America a...|Office Supplies|       4595205.0|   4|\n",
      "|Central America a...|      Baby Food|       4524204.0|   5|\n",
      "|              Europe|         Cereal|     1.1076271E7|   1|\n",
      "|              Europe|Office Supplies|     1.0905284E7|   2|\n",
      "|              Europe|     Vegetables|     1.0859623E7|   3|\n",
      "|              Europe|      Beverages|     1.0782748E7|   4|\n",
      "+--------------------+---------------+----------------+----+\n",
      "only showing top 20 rows\n",
      "\n"
     ]
    }
   ],
   "source": [
    "famous_item_in_region = sales_data.groupBy('Region', 'Item Type').agg(fun.sum('Units Sold').alias('Total Units Sold')).orderBy('Region', 'Total Units Sold')\n",
    "famous_item_in_region.withColumn('rank', fun.rank().over(Wd.partitionBy('Region').orderBy(fun.col('Total Units Sold').desc()))).where('rank <= 5').show()\n"
   ]
  },
  {
   "cell_type": "markdown",
   "metadata": {},
   "source": [
    "5. Find all the regions and their famous sales channels."
   ]
  },
  {
   "cell_type": "code",
   "execution_count": 34,
   "metadata": {},
   "outputs": [
    {
     "name": "stdout",
     "output_type": "stream",
     "text": [
      "+--------------------+-----------------+\n",
      "|              Region|   Sales Channels|\n",
      "+--------------------+-----------------+\n",
      "|                null|               []|\n",
      "|                Asia|[Online, Offline]|\n",
      "|Australia and Oce...|[Online, Offline]|\n",
      "|Central America a...|[Online, Offline]|\n",
      "|              Europe|[Online, Offline]|\n",
      "|Middle East and N...|[Online, Offline]|\n",
      "|       North America|[Online, Offline]|\n",
      "|  Sub-Saharan Africa|[Online, Offline]|\n",
      "+--------------------+-----------------+\n",
      "\n"
     ]
    }
   ],
   "source": [
    "sales_data.withColumn('Sales Channels', fun.collect_set('Sales Channel').over(Wd.partitionBy('Region'))).select('Region', 'Sales Channels').distinct().show()\n"
   ]
  },
  {
   "cell_type": "markdown",
   "metadata": {},
   "source": [
    "6. Find the list of countries and items and their respective units."
   ]
  },
  {
   "cell_type": "code",
   "execution_count": 35,
   "metadata": {},
   "outputs": [
    {
     "name": "stdout",
     "output_type": "stream",
     "text": [
      "+-----------+---------------+----------+\n",
      "|    Country|      Item Type|Units Sold|\n",
      "+-----------+---------------+----------+\n",
      "|       null|           null|      null|\n",
      "|Afghanistan|      Cosmetics|  217192.0|\n",
      "|Afghanistan|         Cereal|  256936.0|\n",
      "|Afghanistan|     Vegetables|  219937.0|\n",
      "|Afghanistan|         Snacks|  237350.0|\n",
      "|Afghanistan|Office Supplies|  166911.0|\n",
      "|Afghanistan|           Meat|  273402.0|\n",
      "|Afghanistan|        Clothes|  220429.0|\n",
      "|Afghanistan|      Baby Food|  232084.0|\n",
      "|Afghanistan|  Personal Care|  255956.0|\n",
      "|Afghanistan|      Beverages|  206154.0|\n",
      "|Afghanistan|         Fruits|  257336.0|\n",
      "|Afghanistan|      Household|  261953.0|\n",
      "|    Albania|         Cereal|  215238.0|\n",
      "|    Albania|      Baby Food|  191480.0|\n",
      "|    Albania|        Clothes|  250884.0|\n",
      "|    Albania|           Meat|  266123.0|\n",
      "|    Albania|      Beverages|  188950.0|\n",
      "|    Albania|         Snacks|  210384.0|\n",
      "|    Albania|Office Supplies|  236822.0|\n",
      "+-----------+---------------+----------+\n",
      "only showing top 20 rows\n",
      "\n"
     ]
    }
   ],
   "source": [
    "sales_data.groupBy('Country', 'Item Type').agg(fun.sum('Units Sold').alias('Units Sold')).orderBy('Country').show()"
   ]
  },
  {
   "cell_type": "markdown",
   "metadata": {},
   "source": [
    "7. In 2013, identify the regions which sold maximum and minimum units of item type Meat."
   ]
  },
  {
   "cell_type": "code",
   "execution_count": 37,
   "metadata": {},
   "outputs": [
    {
     "name": "stdout",
     "output_type": "stream",
     "text": [
      "+--------------------+---------+----------+\n",
      "|              Region|Item Type|Units Sold|\n",
      "+--------------------+---------+----------+\n",
      "|       North America|     Meat|  106193.0|\n",
      "|Australia and Oce...|     Meat|  449346.0|\n",
      "|Central America a...|     Meat|  615706.0|\n",
      "|Middle East and N...|     Meat|  745940.0|\n",
      "|                Asia|     Meat|  956367.0|\n",
      "|              Europe|     Meat| 1468932.0|\n",
      "|  Sub-Saharan Africa|     Meat| 1491277.0|\n",
      "+--------------------+---------+----------+\n",
      "\n"
     ]
    }
   ],
   "source": [
    "sales_2013=sales_data.withColumn('year', fun.substring('Order Date', -4, 4)).where(fun.col('year') == '2013')\n",
    "\n",
    "sales_2013.where(sales_data['Item Type'] == 'Meat').groupBy('Region', 'Item Type').agg(F.sum('Units Sold').alias('Units Sold')).orderBy('Units Sold').show()\n"
   ]
  },
  {
   "cell_type": "markdown",
   "metadata": {},
   "source": [
    "8. List all the items whose unit cost is less than 500."
   ]
  },
  {
   "cell_type": "code",
   "execution_count": 33,
   "metadata": {},
   "outputs": [
    {
     "name": "stdout",
     "output_type": "stream",
     "text": [
      "+-------------+---------+\n",
      "|    Item Type|Unit Cost|\n",
      "+-------------+---------+\n",
      "|   Vegetables|    90.93|\n",
      "|    Cosmetics|   263.33|\n",
      "|       Cereal|   117.11|\n",
      "|    Baby Food|   159.42|\n",
      "|       Snacks|    97.44|\n",
      "|Personal Care|    56.67|\n",
      "|    Beverages|    31.79|\n",
      "|       Fruits|     6.92|\n",
      "|      Clothes|    35.84|\n",
      "|         Meat|   364.69|\n",
      "+-------------+---------+\n",
      "\n"
     ]
    }
   ],
   "source": [
    "sales_data.filter(sales_data[\"Unit Cost\"] < 500).select('Item Type', 'Unit Cost').distinct().show()"
   ]
  },
  {
   "cell_type": "markdown",
   "metadata": {},
   "source": [
    "9. Find the total cost, revenue and profit of each year."
   ]
  },
  {
   "cell_type": "code",
   "execution_count": 38,
   "metadata": {},
   "outputs": [
    {
     "name": "stdout",
     "output_type": "stream",
     "text": [
      "+----+--------------------+--------------------+--------------------+\n",
      "|Year|     sum(Total Cost)|  sum(Total Revenue)|   sum(Total Profit)|\n",
      "+----+--------------------+--------------------+--------------------+\n",
      "|null|                null|                null|                null|\n",
      "|2010|1.233298120903000...|1.752972613911000...| 5.196744930080002E9|\n",
      "|2011|   1.233635125179E10|1.751684120711999E10| 5.180489955329999E9|\n",
      "|2012|1.245034204327000...|   1.762118501646E10| 5.170842973189999E9|\n",
      "|2013|1.254475780503000...|1.780262841911000...| 5.257870614080002E9|\n",
      "|2014|   1.264726299211E10|1.786939230117000...|5.2221293090599985E9|\n",
      "|2015|1.256502197243999...|1.779198426312999...| 5.226962290690001E9|\n",
      "|2016|   1.229711736968E10|1.746406770788999E10| 5.166950338210002E9|\n",
      "|2017| 7.018850988999998E9|1.000281919499999...|       2.983968206E9|\n",
      "+----+--------------------+--------------------+--------------------+\n",
      "\n"
     ]
    }
   ],
   "source": [
    "sales_1 = sales_data.withColumn('Year', fun.substring('Order Date', -4, 4))\\\n",
    "\n",
    "sales_1.groupBy('Year').agg(fun.sum('Total Cost'), fun.sum('Total Revenue'), fun.sum('Total Profit')).orderBy('Year').show()"
   ]
  }
 ],
 "metadata": {
  "kernelspec": {
   "display_name": "Python 3",
   "language": "python",
   "name": "python3"
  },
  "language_info": {
   "codemirror_mode": {
    "name": "ipython",
    "version": 3
   },
   "file_extension": ".py",
   "mimetype": "text/x-python",
   "name": "python",
   "nbconvert_exporter": "python",
   "pygments_lexer": "ipython3",
   "version": "3.8.10"
  }
 },
 "nbformat": 4,
 "nbformat_minor": 4
}
